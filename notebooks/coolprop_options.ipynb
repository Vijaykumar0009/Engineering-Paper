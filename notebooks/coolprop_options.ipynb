{
 "cells": [
  {
   "cell_type": "code",
   "execution_count": 1,
   "id": "0a4de3ff",
   "metadata": {},
   "outputs": [
    {
     "name": "stdout",
     "output_type": "stream",
     "text": [
      "6.6.0\n"
     ]
    }
   ],
   "source": [
    "import csv\n",
    "\n",
    "from CoolProp.CoolProp import get_global_param_string, FluidsList, get_phase_index\n",
    "from CoolProp import __version__\n",
    "\n",
    "print(__version__)"
   ]
  },
  {
   "cell_type": "code",
   "execution_count": 2,
   "id": "5e466ee8",
   "metadata": {},
   "outputs": [
    {
     "data": {
      "text/plain": [
       "['n-Nonane',\n",
       " 'MethylLinolenate',\n",
       " 'DimethylCarbonate',\n",
       " 'R21',\n",
       " 'DiethylEther',\n",
       " 'trans-2-Butene',\n",
       " 'R245fa',\n",
       " 'ParaDeuterium',\n",
       " 'OrthoDeuterium',\n",
       " 'Isohexane',\n",
       " 'R365MFC',\n",
       " 'n-Dodecane',\n",
       " 'R410A',\n",
       " 'Deuterium',\n",
       " 'D4',\n",
       " 'R13',\n",
       " 'MD2M',\n",
       " 'n-Hexane',\n",
       " 'Methane',\n",
       " 'Ethane',\n",
       " 'CarbonylSulfide',\n",
       " 'EthylBenzene',\n",
       " 'CarbonMonoxide',\n",
       " 'Isopentane',\n",
       " 'Xenon',\n",
       " 'cis-2-Butene',\n",
       " 'R152A',\n",
       " 'Oxygen',\n",
       " 'EthyleneOxide',\n",
       " 'R1234ze(E)',\n",
       " 'n-Octane',\n",
       " 'R404A',\n",
       " 'R236EA',\n",
       " 'CycloHexane',\n",
       " 'n-Heptane',\n",
       " 'R22',\n",
       " 'R113',\n",
       " 'n-Pentane',\n",
       " 'MethylLinoleate',\n",
       " 'R11',\n",
       " 'SulfurDioxide',\n",
       " 'R23',\n",
       " 'Helium',\n",
       " 'R32',\n",
       " 'R227EA',\n",
       " 'R407C',\n",
       " 'HydrogenSulfide',\n",
       " 'Air',\n",
       " 'R245ca',\n",
       " 'Novec649',\n",
       " 'R143a',\n",
       " 'D5',\n",
       " 'R507A',\n",
       " 'R134a',\n",
       " 'Dichloroethane',\n",
       " 'ParaHydrogen',\n",
       " 'R1233zd(E)',\n",
       " 'Acetone',\n",
       " 'n-Decane',\n",
       " 'HeavyWater',\n",
       " 'MethylPalmitate',\n",
       " 'n-Propane',\n",
       " 'R115',\n",
       " 'R1234yf',\n",
       " 'R236FA',\n",
       " 'Ethylene',\n",
       " 'R116',\n",
       " 'MD4M',\n",
       " 'Benzene',\n",
       " 'Methanol',\n",
       " 'SulfurHexafluoride',\n",
       " 'o-Xylene',\n",
       " 'R125',\n",
       " 'Fluorine',\n",
       " 'R1234ze(Z)',\n",
       " 'CarbonDioxide',\n",
       " 'IsoButane',\n",
       " 'n-Butane',\n",
       " 'NitrousOxide',\n",
       " 'DimethylEther',\n",
       " 'RC318',\n",
       " 'Toluene',\n",
       " 'IsoButene',\n",
       " 'MethylStearate',\n",
       " 'Ammonia',\n",
       " 'Argon',\n",
       " 'R218',\n",
       " 'R41',\n",
       " 'Neon',\n",
       " 'Propyne',\n",
       " 'CycloPropane',\n",
       " 'R12',\n",
       " 'Nitrogen',\n",
       " 'Water',\n",
       " 'MethylOleate',\n",
       " 'R161',\n",
       " 'D6',\n",
       " 'SES36',\n",
       " 'HFE143m',\n",
       " 'n-Undecane',\n",
       " 'R123',\n",
       " 'HydrogenChloride',\n",
       " 'm-Xylene',\n",
       " 'R141b',\n",
       " 'R124',\n",
       " '1-Butene',\n",
       " 'Propylene',\n",
       " 'R14',\n",
       " 'p-Xylene',\n",
       " 'Cyclopentane',\n",
       " 'MDM',\n",
       " 'Hydrogen',\n",
       " 'Neopentane',\n",
       " 'Ethanol',\n",
       " 'OrthoHydrogen',\n",
       " 'R114',\n",
       " 'Krypton',\n",
       " 'MD3M',\n",
       " 'R1243zf',\n",
       " 'MM',\n",
       " 'R142b',\n",
       " 'R40',\n",
       " 'R13I1']"
      ]
     },
     "execution_count": 2,
     "metadata": {},
     "output_type": "execute_result"
    }
   ],
   "source": [
    "FluidsList()"
   ]
  },
  {
   "cell_type": "code",
   "execution_count": 3,
   "id": "4399f245",
   "metadata": {},
   "outputs": [
    {
     "data": {
      "text/plain": [
       "123"
      ]
     },
     "execution_count": 3,
     "metadata": {},
     "output_type": "execute_result"
    }
   ],
   "source": [
    "len(FluidsList())"
   ]
  },
  {
   "cell_type": "markdown",
   "id": "1b6a1f5d",
   "metadata": {},
   "source": [
    "[Phase Index Definitions](https://github.com/CoolProp/CoolProp/blob/f6eb03742f9430f8dbf9e5a950b2d914b9edc0d1/include/DataStructures.h#L176)"
   ]
  },
  {
   "cell_type": "code",
   "execution_count": 4,
   "id": "19d04e16",
   "metadata": {},
   "outputs": [
    {
     "data": {
      "text/plain": [
       "8"
      ]
     },
     "execution_count": 4,
     "metadata": {},
     "output_type": "execute_result"
    }
   ],
   "source": [
    "get_phase_index(\"phase_not_imposed\")"
   ]
  },
  {
   "cell_type": "code",
   "execution_count": 5,
   "id": "5129a61a",
   "metadata": {},
   "outputs": [],
   "source": [
    "bool_dict = {\"True\": \"true\", \"TRUE\": \"true\", \"FALSE\": \"false\", \"False\": \"false\", \"null\": \"null\"}\n",
    "\n",
    "file_name = '../src/fluidConstants.ts'\n",
    "\n",
    "with open(file_name, 'w') as f:\n",
    "\n",
    "    f.write(\"export const FLUID_PROPS_PARAMETERS = new Map([\\n\")\n",
    "    with open('propsSI_parameters.csv') as csvfile:\n",
    "        reader = csv.reader(csvfile)\n",
    "        for i,row in enumerate(reader):\n",
    "            if i == 0:\n",
    "                header = row\n",
    "            else:\n",
    "                f.write(\"  [\\n\")\n",
    "                f.write(f'    \"{row[0]}\",\\n')\n",
    "                f.write(\"    {\\n\")\n",
    "                for j,name in enumerate(header):\n",
    "                    if j >= 1:\n",
    "                        value = row[j]\n",
    "                        if value in bool_dict:\n",
    "                            f.write(f'      {name}: {bool_dict[value]},\\n')\n",
    "                        else:\n",
    "                            f.write(f'      {name}: \"{value}\",\\n')\n",
    "\n",
    "                f.write(\"    }\\n\")\n",
    "                f.write(\"  ],\\n\")\n",
    "    f.write(\"]);\\n\\n\\n\")\n",
    "    \n",
    "    f.write(\"export const FLUID_PROPS_PARAMETERS_ORDER = [\\n\")\n",
    "    with open('propsSI_parameters_order.csv') as csvfile:\n",
    "        reader = csv.reader(csvfile)\n",
    "        for row in reader:\n",
    "            row_values = '\"' + '\", \"'.join(row) + '\"'\n",
    "            f.write(f\"    [{row_values}],\\n\")\n",
    "     \n",
    "    f.write(\"  ];\\n\\n\\n\")\n",
    "    \n",
    "    "
   ]
  },
  {
   "cell_type": "code",
   "execution_count": 6,
   "id": "17ad8ae6",
   "metadata": {
    "scrolled": true
   },
   "outputs": [],
   "source": [
    "with open(file_name, 'a') as f:\n",
    "    f.write(\"export const FLUIDS = new Map([\\n\")\n",
    "    with open('propsSI_fluids.csv') as csvfile:\n",
    "        reader = csv.reader(csvfile)\n",
    "        for i,row in enumerate(reader):\n",
    "            if i == 0:\n",
    "                header = row\n",
    "            else:\n",
    "                f.write(\"  [\\n\")\n",
    "                f.write(f'    \"{row[0]}\",\\n')\n",
    "                f.write(\"    {\\n\")\n",
    "                for j,name in enumerate(header):\n",
    "                    if j >= 1:\n",
    "                        value = row[j]\n",
    "                        if value in bool_dict:\n",
    "                            f.write(f'      {name}: {bool_dict[value]},\\n')\n",
    "                        elif name in ('minConcentration', 'maxConcentration'):\n",
    "                            f.write(f'      {name}: {value},\\n')\n",
    "                        else:\n",
    "                            f.write(f'      {name}: \"{value}\",\\n')\n",
    "\n",
    "                f.write(\"    }\\n\")\n",
    "                f.write(\"  ],\\n\")\n",
    "    f.write(\"]);\\n\\n\\n\")"
   ]
  },
  {
   "cell_type": "code",
   "execution_count": 7,
   "id": "900b5b7e",
   "metadata": {},
   "outputs": [],
   "source": [
    "with open(file_name, 'a') as f:\n",
    "    f.write(\"export const FLUID_HA_PROPS_PARAMETERS = new Map([\\n\")\n",
    "    with open('HA_parameters.csv') as csvfile:\n",
    "        reader = csv.reader(csvfile)\n",
    "        for i,row in enumerate(reader):\n",
    "            if i == 0:\n",
    "                header = row\n",
    "            else:\n",
    "                f.write(\"  [\\n\")\n",
    "                f.write(f'    \"{row[0]}\",\\n')\n",
    "                f.write(\"    {\\n\")\n",
    "                for j,name in enumerate(header):\n",
    "                    if j >= 1:\n",
    "                        value = row[j]\n",
    "                        if value in bool_dict:\n",
    "                            f.write(f'      {name}: {bool_dict[value]},\\n')\n",
    "                        else:\n",
    "                            f.write(f'      {name}: \"{value}\",\\n')\n",
    "\n",
    "                f.write(\"    }\\n\")\n",
    "                f.write(\"  ],\\n\")\n",
    "    f.write(\"]);\\n\")\n",
    "    \n",
    "    f.write(\"export const FLUID_HA_PROPS_PARAMETERS_ORDER = [\\n\")\n",
    "    with open('HA_parameters_order.csv') as csvfile:\n",
    "        reader = csv.reader(csvfile)\n",
    "        for row in reader:\n",
    "            row_values = '\"' + '\", \"'.join(row) + '\"'\n",
    "            f.write(f\"    [{row_values}],\\n\")\n",
    "     \n",
    "    f.write(\"  ];\\n\\n\\n\")"
   ]
  }
 ],
 "metadata": {
  "kernelspec": {
   "display_name": "Python 3 (ipykernel)",
   "language": "python",
   "name": "python3"
  },
  "language_info": {
   "codemirror_mode": {
    "name": "ipython",
    "version": 3
   },
   "file_extension": ".py",
   "mimetype": "text/x-python",
   "name": "python",
   "nbconvert_exporter": "python",
   "pygments_lexer": "ipython3",
   "version": "3.11.4"
  }
 },
 "nbformat": 4,
 "nbformat_minor": 5
}
