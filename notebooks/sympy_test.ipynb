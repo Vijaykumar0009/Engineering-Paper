{
 "cells": [
  {
   "cell_type": "markdown",
   "metadata": {},
   "source": [
    "![Test Case](./test_case_small.png)"
   ]
  },
  {
   "cell_type": "code",
   "execution_count": 1,
   "metadata": {},
   "outputs": [],
   "source": [
    "statements = '[{\"type\":\"assignment\",\"name\":\"x\",\"sympy\":\"3*implicit_param_0_0\",\"implicitParams\":[{\"name\":\"implicit_param_0_0\",\"dimensions\":[0,1,0,0,0,0,0,0,0],\"si_value\":0.0254,\"units_valid\":true}],\"params\":[\"implicit_param_0_0\"]},{\"type\":\"assignment\",\"name\":\"y\",\"sympy\":\"implicit_param_1_0\",\"implicitParams\":[{\"name\":\"implicit_param_1_0\",\"dimensions\":[0,1,0,0,0,0,0,0,0],\"si_value\":0.1016,\"units_valid\":true}],\"params\":[\"implicit_param_1_0\"]},{\"type\":\"assignment\",\"name\":\"length\",\"sympy\":\"sqrt((x)**(2)+(y)**(2))\",\"implicitParams\":[],\"params\":[\"x\",\"y\"]},{\"type\":\"query\",\"sympy\":\"length\",\"units\":\"inch\",\"dimensions\":[0,1,0,0,0,0,0,0,0],\"units_valid\":true,\"implicitParams\":[],\"params\":[\"length\"]},{\"type\":\"assignment\",\"name\":\"velocity\",\"sympy\":\"(length)/(implicit_param_4_0)\",\"implicitParams\":[{\"name\":\"implicit_param_4_0\",\"dimensions\":[0,0,1,0,0,0,0,0,0],\"si_value\":10,\"units_valid\":true}],\"params\":[\"length\",\"implicit_param_4_0\"]},{\"type\":\"query\",\"sympy\":\"velocity\",\"units\":\"\",\"implicitParams\":[],\"params\":[\"velocity\"]},{\"type\":\"query\",\"sympy\":\"(implicit_param_6_0)/(implicit_param_6_1)\",\"units\":\"\",\"implicitParams\":[{\"name\":\"implicit_param_6_0\",\"dimensions\":[0,1,0,0,0,0,0,0,0],\"si_value\":10000,\"units_valid\":true},{\"name\":\"implicit_param_6_1\",\"dimensions\":[0,0,1,0,0,0,0,0,0],\"si_value\":7200,\"units_valid\":true}],\"params\":[\"implicit_param_6_0\",\"implicit_param_6_1\"]}]'"
   ]
  },
  {
   "cell_type": "code",
   "execution_count": 2,
   "metadata": {},
   "outputs": [],
   "source": [
    "import json\n",
    "\n",
    "import sympy\n",
    "\n",
    "from sympy.parsing.sympy_parser import parse_expr \n",
    "\n",
    "from sympy.physics.units.definitions.dimension_definitions import \\\n",
    "                                mass, length, time, current,\\\n",
    "                                temperature, luminous_intensity,\\\n",
    "                                amount_of_substance, angle, information\n",
    "\n",
    "from sympy.physics.units.systems.si import dimsys_SI\n",
    "\n",
    "from sympy.utilities.iterables import topological_sort\n",
    "\n",
    "# maps from mathjs dimensions object to sympy dimensions\n",
    "dim_map = {0:mass, 1:length, 2:time, 3:current, 4:temperature, 5:luminous_intensity,\n",
    "           6:amount_of_substance, 7:angle, 8:information}\n",
    "\n",
    "inv_dim_map = {str(value.name):key for key, value in dim_map.items()}\n",
    "\n",
    "# base units as defined by mathjs\n",
    "base_units = { (0, 0, 0, 0, 0, 0, 0, 0, 0) : '',\n",
    "               (1, 0, 0, 0, 0, 0, 0, 0, 0) : 'kg',\n",
    "               (0, 1, 0, 0, 0, 0, 0, 0, 0) : 'm',\n",
    "               (0, 0, 1, 0, 0, 0, 0, 0, 0) : 'sec',\n",
    "               (0, 0, 0, 1, 0, 0, 0, 0, 0) : 'ampere',\n",
    "               (0, 0, 0, 0, 1, 0, 0, 0, 0) : 'kelvin',\n",
    "               (0, 0, 0, 0, 0, 1, 0, 0, 0) : 'candela',\n",
    "               (0, 0, 0, 0, 0, 0, 1, 0, 0) : 'mole',\n",
    "               (1, 1, -2, 0, 0, 0, 0, 0, 0) : 'N',\n",
    "               (0, 2, 0, 0, 0, 0, 0, 0, 0) : 'm^2',\n",
    "               (0, 3, 0, 0, 0, 0, 0, 0, 0) : 'm^3',\n",
    "               (1, 2, -2, 0, 0, 0, 0, 0, 0) : 'J',\n",
    "               (1, 2, -3, 0, 0, 0, 0, 0, 0) : 'W',\n",
    "               (1, -1, -2, 0, 0, 0, 0, 0, 0) : 'Pa',\n",
    "               (0, 0, 1, 1, 0, 0, 0, 0, 0) : 'coulomb',\n",
    "               (-1, -2, 4, 2, 0, 0, 0, 0, 0) : 'farad',\n",
    "               (1, 2, -3, -1, 0, 0, 0, 0, 0) : 'V',\n",
    "               (1, 2, -3, -2, 0, 0, 0, 0, 0) : 'ohm',\n",
    "               (1, 2, -2, -2, 0, 0, 0, 0, 0) : 'henry',\n",
    "               (-1, -2, 3, 2, 0, 0, 0, 0, 0) : 'siemens',\n",
    "               (1, 2, -2, -1, 0, 0, 0, 0, 0) : 'weber',\n",
    "               (1, 0, -2, -1, 0, 0, 0, 0, 0) : 'tesla',\n",
    "               (0, 0, -1, 0, 0, 0, 0, 0, 0) : 'Hz',\n",
    "               (0, 0, 0, 0, 0, 0, 0, 1, 0) : 'rad',\n",
    "               (0, 0, 0, 0, 0, 0, 0, 0, 1) : 'bits' }\n",
    "\n",
    "\n",
    "# map the sympy dimensional dependences to mathjs dimensions\n",
    "def get_mathjs_units(dimensional_dependencies):\n",
    "    mathjs_dims = [0] * 9\n",
    "\n",
    "    all_units_recognized = True\n",
    "    for name, exp in dimensional_dependencies.items():\n",
    "        dim_index = inv_dim_map.get(name)\n",
    "        if dim_index is None:\n",
    "            # this will hapen if the user references a parameter in an equation that has not been defined\n",
    "            # will eventually want to allow the user to specify the untis for an undefined parameter\n",
    "            all_units_recognized = False\n",
    "            break\n",
    "        mathjs_dims[dim_index] += exp\n",
    "\n",
    "    if all_units_recognized:\n",
    "        mathjs_unit_name = base_units.get(tuple(mathjs_dims))\n",
    "\n",
    "        if mathjs_unit_name is None:\n",
    "            mathjs_unit_name = \"\"\n",
    "            latex_num = \"\"\n",
    "            latex_den = \"\"\n",
    "            for i, exp in enumerate(mathjs_dims):\n",
    "                if exp != 0:\n",
    "                    key = [0] * 9\n",
    "                    key[i] = 1\n",
    "                    name = base_units.get(tuple(key))\n",
    "                    if mathjs_unit_name == \"\":\n",
    "                        mathjs_unit_name = f\"{name}^{exp}\"\n",
    "                    else:\n",
    "                        mathjs_unit_name = f\"{mathjs_unit_name}*{name}^{exp}\"\n",
    "\n",
    "                    if exp > 0:\n",
    "                        if exp != 1:\n",
    "                            new_term = f\"{name}^{exp}\"\n",
    "                        else:\n",
    "                            new_term = name\n",
    "                        if latex_num == \"\":\n",
    "                            latex_num = new_term\n",
    "                        else:\n",
    "                            latex_num = f\"{latex_num}\\\\cdot{new_term}\"\n",
    "                    else:\n",
    "                        if exp != -1:\n",
    "                            new_term = f\"{name}^{-exp}\"\n",
    "                        else:\n",
    "                            new_term = name\n",
    "                        if latex_den == \"\":\n",
    "                            latex_den = new_term\n",
    "                        else:\n",
    "                            latex_den = f\"{latex_den}\\\\cdot{new_term}\"\n",
    "\n",
    "            if latex_den != \"\":\n",
    "                unit_latex = f\"\\\\left[\\\\frac{{{latex_num}}}{{{latex_den}}}\\\\right]\"\n",
    "            elif latex_num != \"\":\n",
    "                unit_latex = f\"\\\\left[{latex_num}\\\\right]\"\n",
    "            else:\n",
    "                unit_latex = \"\"\n",
    "        else:\n",
    "            if mathjs_unit_name == \"\":\n",
    "                unit_latex = \"\"\n",
    "            else:\n",
    "                unit_latex = f\"\\\\left[{mathjs_unit_name}\\\\right]\"\n",
    "\n",
    "    else:\n",
    "        mathjs_unit_name = \"\"\n",
    "        unit_latex = \"\"\n",
    "\n",
    "    return mathjs_unit_name, unit_latex\n",
    "\n",
    "\n",
    "def get_dims(dimensions):\n",
    "    dims = sympy.Mul(1, *[dim_map[int(i)]**value for i, value in enumerate(dimensions) if value != 0.0])\n",
    "    return dims\n",
    "\n",
    "def dimensional_analysis(parameters, expression):\n",
    "    # sub parameter dimensions\n",
    "    parameter_subs = {param['name']:get_dims(param['dimensions']) for param in parameters}\n",
    "    parameter_subs[sympy.pi] = 1\n",
    "    # print(parameter_subs)\n",
    "    positive_only_expression = parse_expr(str(expression).replace('-', '+'))\n",
    "    final_expression = positive_only_expression.subs(parameter_subs)\n",
    "\n",
    "    try:\n",
    "        result, result_latex = get_mathjs_units(dimsys_SI.get_dimensional_dependencies(final_expression))\n",
    "    except TypeError:\n",
    "        result = \"Dimension Error\"\n",
    "\n",
    "    return result\n",
    "\n",
    "class ParameterError(Exception):\n",
    "    pass\n",
    "\n",
    "class DuplicateAssignment(Exception):\n",
    "    pass\n",
    "\n",
    "class ReferenceCycle(Exception):\n",
    "    pass\n",
    "\n",
    "class ParsingError(Exception):\n",
    "    pass\n",
    "\n",
    "def is_number(s):\n",
    "    try:\n",
    "        float(s)\n",
    "        return True\n",
    "    except ValueError:\n",
    "        return False\n"
   ]
  },
  {
   "cell_type": "code",
   "execution_count": 3,
   "metadata": {},
   "outputs": [],
   "source": [
    "def get_sorted_statements(statements):\n",
    "    defined_params = {}\n",
    "    for i, statement in enumerate(statements):\n",
    "        if statement[\"type\"] == \"assignment\":\n",
    "            if statement[\"name\"] in defined_params:\n",
    "                raise DuplicateAssignment\n",
    "            else:\n",
    "                defined_params[statement[\"name\"]] = i\n",
    "            \n",
    "    vertices = range(len(statements))\n",
    "    edges = []\n",
    "    \n",
    "    for i, statement in enumerate(statements):\n",
    "        for param in statement[\"params\"]:\n",
    "            ref_index = defined_params.get(param)\n",
    "            if ref_index is not None:\n",
    "                edges.append( (ref_index, i) )\n",
    "                \n",
    "    try:\n",
    "        sort_order = topological_sort((vertices,edges))\n",
    "    except ValueError:\n",
    "        print('Reference cycle detected')\n",
    "        raise ReferenceCycle\n",
    "        \n",
    "    sorted_statements = []\n",
    "    \n",
    "    for i in sort_order:\n",
    "        statement = statements[i]\n",
    "        statement['index'] = i # original index, needed to place results in original order\n",
    "        sorted_statements.append(statement)\n",
    "    \n",
    "    return sorted_statements"
   ]
  },
  {
   "cell_type": "code",
   "execution_count": 4,
   "metadata": {},
   "outputs": [],
   "source": [
    "def get_all_parameters(statements):\n",
    "    parameters = []\n",
    "    for statement in statements:\n",
    "        parameters.extend(statement[\"implicitParams\"])\n",
    "        \n",
    "    return parameters"
   ]
  },
  {
   "cell_type": "code",
   "execution_count": 5,
   "metadata": {},
   "outputs": [],
   "source": [
    "def evaluate_statements(statements):\n",
    "    \n",
    "    parameters = get_all_parameters(statements)\n",
    "    \n",
    "    statements = get_sorted_statements(statements)\n",
    "    \n",
    "    for index, statement in enumerate(statements):\n",
    "        try:\n",
    "            statement['expression'] = parse_expr(statement['sympy'])\n",
    "        except SyntaxError:\n",
    "            print(f\"Parsing error for equation {statement['sympy']}\")\n",
    "            raise ParsingError\n",
    "\n",
    "\n",
    "    combined_expressions = []\n",
    "    for i in range(len(statements)):\n",
    "        if statements[i]['type'] == \"assignment\":\n",
    "            combined_expressions.append(None)\n",
    "            continue\n",
    "        temp_statements = statements[0:i+1]\n",
    "        # sub equations into each other in topological order if there are more than one\n",
    "        for j, statement in enumerate(reversed(temp_statements)):\n",
    "            if j == 0:\n",
    "                final_expression = statement['expression']\n",
    "            elif statement['type'] == \"assignment\":\n",
    "                final_expression = final_expression.subs({statement['name'] : statement['expression']})\n",
    "\n",
    "        combined_expressions.append(final_expression)\n",
    "\n",
    "    # sub parameter values\n",
    "    parameter_subs = {param['name']:float(param['si_value']) for param in parameters if param['si_value'] is not None}\n",
    "    if len(parameter_subs) < len(parameters):\n",
    "        raise ParameterError\n",
    "\n",
    "    dims = []\n",
    "    values = []\n",
    "    for expression in combined_expressions:\n",
    "        if expression is None:\n",
    "            dims.append('')\n",
    "            values.append('')\n",
    "        else:\n",
    "            dims.append(dimensional_analysis(parameters, expression))\n",
    "            value = str(expression.subs(parameter_subs).evalf())\n",
    "            values.append(value if is_number(value) else '')\n",
    "\n",
    "    sorted_values = [None]*len(statements)\n",
    "    sorted_dims = [None]*len(statements)\n",
    "    \n",
    "    for i, statement in enumerate(statements):\n",
    "        sorted_values[statement['index']] = values[i]\n",
    "        sorted_dims[statement['index']] = dims[i]\n",
    "\n",
    "    return (sorted_values, sorted_dims)"
   ]
  },
  {
   "cell_type": "code",
   "execution_count": 6,
   "metadata": {},
   "outputs": [],
   "source": [
    "def get_query_values(statements):\n",
    "    error = None\n",
    "    \n",
    "    try:\n",
    "        values, dims = evaluate_statements(json.loads(statements))\n",
    "    except (DuplicateAssignment, ReferenceCycle, ParameterError, ParsingError) as e:\n",
    "        error = e.__class__.__name__\n",
    "        values = None\n",
    "        dims = None\n",
    "    \n",
    "    return json.dumps({\"error\": error, \"values\": values, \"dims\": dims})"
   ]
  },
  {
   "cell_type": "code",
   "execution_count": 7,
   "metadata": {},
   "outputs": [
    {
     "data": {
      "text/plain": [
       "'{\"error\": null, \"values\": [\"\", \"\", \"\", \"0.127000000000000\", \"\", \"0.0127000000000000\", \"1.38888888888889\"], \"dims\": [\"\", \"\", \"\", \"m\", \"\", \"m^1*sec^-1\", \"m^1*sec^-1\"]}'"
      ]
     },
     "execution_count": 7,
     "metadata": {},
     "output_type": "execute_result"
    }
   ],
   "source": [
    "get_query_values(statements)"
   ]
  },
  {
   "cell_type": "code",
   "execution_count": 8,
   "metadata": {},
   "outputs": [
    {
     "data": {
      "text/plain": [
       "'{\"error\": null, \"values\": [\"\"], \"dims\": [\"Dimension Error\"]}'"
      ]
     },
     "execution_count": 8,
     "metadata": {},
     "output_type": "execute_result"
    }
   ],
   "source": [
    "# x+y=\n",
    "statements = '[{\"type\":\"query\",\"sympy\":\"x+y\",\"units\":\"\",\"implicitParams\":[],\"params\":[\"x\",\"y\"]}]'\n",
    "get_query_values(statements)"
   ]
  },
  {
   "cell_type": "code",
   "execution_count": 9,
   "metadata": {},
   "outputs": [
    {
     "data": {
      "text/plain": [
       "'{\"error\": null, \"values\": [\"\", \"\", \"0.00500000000000000\"], \"dims\": [\"\", \"\", \"m^1*sec^-1\"]}'"
      ]
     },
     "execution_count": 9,
     "metadata": {},
     "output_type": "execute_result"
    }
   ],
   "source": [
    "# x = 10 [mm]\n",
    "# y = 2 [s]\n",
    "# x/y = [hours]\n",
    "\n",
    "statements = '[{\"type\":\"assignment\",\"name\":\"x\",\"sympy\":\"implicit_param_0_0\",\"implicitParams\":[{\"name\":\"implicit_param_0_0\",\"dimensions\":[0,1,0,0,0,0,0,0,0],\"si_value\":0.01,\"units_valid\":true}],\"params\":[\"implicit_param_0_0\"]},{\"type\":\"assignment\",\"name\":\"y\",\"sympy\":\"implicit_param_1_0\",\"implicitParams\":[{\"name\":\"implicit_param_1_0\",\"dimensions\":[0,0,1,0,0,0,0,0,0],\"si_value\":2,\"units_valid\":true}],\"params\":[\"implicit_param_1_0\"]},{\"type\":\"query\",\"sympy\":\"(x)/(y)\",\"units\":\"hours\",\"dimensions\":[0,0,1,0,0,0,0,0,0],\"units_valid\":true,\"implicitParams\":[],\"params\":[\"x\",\"y\"]}]'\n",
    "get_query_values(statements)"
   ]
  },
  {
   "cell_type": "code",
   "execution_count": 10,
   "metadata": {},
   "outputs": [
    {
     "data": {
      "text/plain": [
       "'{\"error\": null, \"values\": [\"0.127000000000000\", \"\", \"\"], \"dims\": [\"m^1*sec^-1\", \"\", \"\"]}'"
      ]
     },
     "execution_count": 10,
     "metadata": {},
     "output_type": "execute_result"
    }
   ],
   "source": [
    "# x/y =\n",
    "# x = 10 [inches]\n",
    "# y = 2 [s]\n",
    "\n",
    "statements = '[{\"type\":\"query\",\"sympy\":\"(x)/(y)\",\"units\":\"\",\"implicitParams\":[],\"params\":[\"x\",\"y\"]},{\"type\":\"assignment\",\"name\":\"x\",\"sympy\":\"implicit_param_1_0\",\"implicitParams\":[{\"name\":\"implicit_param_1_0\",\"dimensions\":[0,1,0,0,0,0,0,0,0],\"si_value\":0.254,\"units_valid\":true}],\"params\":[\"implicit_param_1_0\"]},{\"type\":\"assignment\",\"name\":\"y\",\"sympy\":\"implicit_param_2_0\",\"implicitParams\":[{\"name\":\"implicit_param_2_0\",\"dimensions\":[0,0,1,0,0,0,0,0,0],\"si_value\":2,\"units_valid\":true}],\"params\":[\"implicit_param_2_0\"]}]'\n",
    "get_query_values(statements)\n"
   ]
  },
  {
   "cell_type": "code",
   "execution_count": 11,
   "metadata": {},
   "outputs": [
    {
     "data": {
      "text/plain": [
       "'{\"error\": null, \"values\": [\"3610.00000000000\"], \"dims\": [\"sec\"]}'"
      ]
     },
     "execution_count": 11,
     "metadata": {},
     "output_type": "execute_result"
    }
   ],
   "source": [
    "# 10[s] + 1[hour] = \n",
    "statements = '[{\"type\":\"query\",\"sympy\":\"implicit_param_0_0+implicit_param_0_1\",\"units\":\"\",\"implicitParams\":[{\"name\":\"implicit_param_0_0\",\"dimensions\":[0,0,1,0,0,0,0,0,0],\"si_value\":10,\"units_valid\":true},{\"name\":\"implicit_param_0_1\",\"dimensions\":[0,0,1,0,0,0,0,0,0],\"si_value\":3600,\"units_valid\":true}],\"params\":[\"implicit_param_0_0\",\"implicit_param_0_1\"]}]'\n",
    "get_query_values(statements)"
   ]
  },
  {
   "cell_type": "code",
   "execution_count": 12,
   "metadata": {},
   "outputs": [
    {
     "data": {
      "text/plain": [
       "'{\"error\": null, \"values\": [\"0.000650160000000000\"], \"dims\": [\"m^2\"]}'"
      ]
     },
     "execution_count": 12,
     "metadata": {},
     "output_type": "execute_result"
    }
   ],
   "source": [
    "# 1[mm]*5[mm] + 1[inch^2] =\n",
    "statements = '[{\"type\":\"query\",\"sympy\":\"implicit_param_0_0*implicit_param_0_1+implicit_param_0_2\",\"units\":\"\",\"implicitParams\":[{\"name\":\"implicit_param_0_0\",\"dimensions\":[0,1,0,0,0,0,0,0,0],\"si_value\":0.001,\"units_valid\":true},{\"name\":\"implicit_param_0_1\",\"dimensions\":[0,1,0,0,0,0,0,0,0],\"si_value\":0.005,\"units_valid\":true},{\"name\":\"implicit_param_0_2\",\"dimensions\":[0,2,0,0,0,0,0,0,0],\"si_value\":0.00064516,\"units_valid\":true}],\"params\":[\"implicit_param_0_0\",\"implicit_param_0_1\",\"implicit_param_0_2\"]}]'\n",
    "get_query_values(statements)"
   ]
  },
  {
   "cell_type": "code",
   "execution_count": 13,
   "metadata": {},
   "outputs": [
    {
     "data": {
      "text/plain": [
       "'{\"error\": null, \"values\": [\"0.0254050000000000\"], \"dims\": [\"Dimension Error\"]}'"
      ]
     },
     "execution_count": 13,
     "metadata": {},
     "output_type": "execute_result"
    }
   ],
   "source": [
    "# incompatable dimensions\n",
    "# 1[mm]*5[mm] + 1[inch] =\n",
    "statements = '[{\"type\":\"query\",\"sympy\":\"implicit_param_0_0*implicit_param_0_1+implicit_param_0_2\",\"units\":\"\",\"implicitParams\":[{\"name\":\"implicit_param_0_0\",\"dimensions\":[0,1,0,0,0,0,0,0,0],\"si_value\":0.001,\"units_valid\":true},{\"name\":\"implicit_param_0_1\",\"dimensions\":[0,1,0,0,0,0,0,0,0],\"si_value\":0.005,\"units_valid\":true},{\"name\":\"implicit_param_0_2\",\"dimensions\":[0,1,0,0,0,0,0,0,0],\"si_value\":0.0254,\"units_valid\":true}],\"params\":[\"implicit_param_0_0\",\"implicit_param_0_1\",\"implicit_param_0_2\"]}]'\n",
    "get_query_values(statements)\n"
   ]
  },
  {
   "cell_type": "code",
   "execution_count": 14,
   "metadata": {},
   "outputs": [
    {
     "data": {
      "text/plain": [
       "'{\"error\": null, \"values\": [\"\"], \"dims\": [\"\"]}'"
      ]
     },
     "execution_count": 14,
     "metadata": {},
     "output_type": "execute_result"
    }
   ],
   "source": [
    "# x = 1[m]\n",
    "statements = '[{\"type\":\"assignment\",\"name\":\"x\",\"sympy\":\"implicit_param_0_0\",\"implicitParams\":[{\"name\":\"implicit_param_0_0\",\"dimensions\":[0,1,0,0,0,0,0,0,0],\"si_value\":1,\"units_valid\":true}],\"params\":[\"implicit_param_0_0\"]}]'\n",
    "get_query_values(statements)"
   ]
  },
  {
   "cell_type": "code",
   "execution_count": 15,
   "metadata": {},
   "outputs": [
    {
     "data": {
      "text/plain": [
       "'{\"error\": null, \"values\": [\"\", \"\"], \"dims\": [\"\", \"\"]}'"
      ]
     },
     "execution_count": 15,
     "metadata": {},
     "output_type": "execute_result"
    }
   ],
   "source": [
    "# x = 1[m]\n",
    "# y =\n",
    "statements = '[{\"type\":\"assignment\",\"name\":\"x\",\"sympy\":\"implicit_param_0_0\",\"implicitParams\":[{\"name\":\"implicit_param_0_0\",\"dimensions\":[0,1,0,0,0,0,0,0,0],\"si_value\":1,\"units_valid\":true}],\"params\":[\"implicit_param_0_0\"]},{\"type\":\"query\",\"sympy\":\"y\",\"units\":\"\",\"implicitParams\":[],\"params\":[\"y\"]}]'\n",
    "get_query_values(statements)"
   ]
  },
  {
   "cell_type": "code",
   "execution_count": 16,
   "metadata": {},
   "outputs": [
    {
     "data": {
      "text/plain": [
       "'{\"error\": \"DuplicateAssignment\", \"values\": null, \"dims\": null}'"
      ]
     },
     "execution_count": 16,
     "metadata": {},
     "output_type": "execute_result"
    }
   ],
   "source": [
    "# duplicate assignment\n",
    "# x = 1[m]\n",
    "# x = 2[m]\n",
    "statements = '[{\"type\":\"assignment\",\"name\":\"x\",\"sympy\":\"implicit_param_0_0\",\"implicitParams\":[{\"name\":\"implicit_param_0_0\",\"dimensions\":[0,1,0,0,0,0,0,0,0],\"si_value\":1,\"units_valid\":true}],\"params\":[\"implicit_param_0_0\"]},{\"type\":\"assignment\",\"name\":\"x\",\"sympy\":\"implicit_param_1_0\",\"implicitParams\":[{\"name\":\"implicit_param_1_0\",\"dimensions\":[0,1,0,0,0,0,0,0,0],\"si_value\":2,\"units_valid\":true}],\"params\":[\"implicit_param_1_0\"]}]'\n",
    "get_query_values(statements)"
   ]
  },
  {
   "cell_type": "code",
   "execution_count": 17,
   "metadata": {},
   "outputs": [
    {
     "name": "stdout",
     "output_type": "stream",
     "text": [
      "Reference cycle detected\n"
     ]
    },
    {
     "data": {
      "text/plain": [
       "'{\"error\": \"ReferenceCycle\", \"values\": null, \"dims\": null}'"
      ]
     },
     "execution_count": 17,
     "metadata": {},
     "output_type": "execute_result"
    }
   ],
   "source": [
    "# cyclical reference\n",
    "# x = y\n",
    "# y = x\n",
    "statements = '[{\"type\":\"assignment\",\"name\":\"x\",\"sympy\":\"y\",\"implicitParams\":[],\"params\":[\"y\"]},{\"type\":\"assignment\",\"name\":\"y\",\"sympy\":\"x\",\"implicitParams\":[],\"params\":[\"x\"]}]'\n",
    "get_query_values(statements)"
   ]
  },
  {
   "cell_type": "code",
   "execution_count": 18,
   "metadata": {},
   "outputs": [
    {
     "data": {
      "text/plain": [
       "'{\"error\": null, \"values\": [\"5.00000000000000\"], \"dims\": [\"\"]}'"
      ]
     },
     "execution_count": 18,
     "metadata": {},
     "output_type": "execute_result"
    }
   ],
   "source": [
    "# 5 =\n",
    "statements = '[{\"type\":\"query\",\"sympy\":\"5\",\"units\":\"\",\"implicitParams\":[],\"params\":[]}]'\n",
    "get_query_values(statements)\n"
   ]
  },
  {
   "cell_type": "code",
   "execution_count": 19,
   "metadata": {},
   "outputs": [
    {
     "data": {
      "text/plain": [
       "'{\"error\": null, \"values\": [\"5.00000000000000\", \"15.0000000000000\"], \"dims\": [\"\", \"\"]}'"
      ]
     },
     "execution_count": 19,
     "metadata": {},
     "output_type": "execute_result"
    }
   ],
   "source": [
    "# 5 =\n",
    "# 5 + 10 =\n",
    "statements = '[{\"type\":\"query\",\"sympy\":\"5\",\"units\":\"\",\"implicitParams\":[],\"params\":[]},{\"type\":\"query\",\"sympy\":\"5+10\",\"units\":\"\",\"implicitParams\":[],\"params\":[]}]'\n",
    "get_query_values(statements)"
   ]
  },
  {
   "cell_type": "code",
   "execution_count": 20,
   "metadata": {},
   "outputs": [
    {
     "data": {
      "text/plain": [
       "'{\"error\": null, \"values\": [\"\"], \"dims\": [\"\"]}'"
      ]
     },
     "execution_count": 20,
     "metadata": {},
     "output_type": "execute_result"
    }
   ],
   "source": [
    "# undefined value\n",
    "# x =\n",
    "statements = '[{\"type\":\"query\",\"sympy\":\"x\",\"units\":\"\",\"implicitParams\":[],\"params\":[\"x\"]}]'\n",
    "get_query_values(statements)"
   ]
  },
  {
   "cell_type": "code",
   "execution_count": 21,
   "metadata": {},
   "outputs": [
    {
     "data": {
      "text/plain": [
       "'{\"error\": null, \"values\": [\"3.14159265358979\"], \"dims\": [\"\"]}'"
      ]
     },
     "execution_count": 21,
     "metadata": {},
     "output_type": "execute_result"
    }
   ],
   "source": [
    "# pi =\n",
    "statements = '[{\"type\":\"query\",\"sympy\":\"pi\",\"units\":\"\",\"implicitParams\":[],\"params\":[]}]'\n",
    "get_query_values(statements)"
   ]
  },
  {
   "cell_type": "code",
   "execution_count": 22,
   "metadata": {},
   "outputs": [
    {
     "data": {
      "text/plain": [
       "'{\"error\": null, \"values\": [\"0.540302305868140\"], \"dims\": [\"Dimension Error\"]}'"
      ]
     },
     "execution_count": 22,
     "metadata": {},
     "output_type": "execute_result"
    }
   ],
   "source": [
    "# cos(1) =\n",
    "statements = '[{\"type\":\"query\",\"sympy\":\"cos(1)\",\"units\":\"\",\"implicitParams\":[],\"params\":[]}]'\n",
    "get_query_values(statements)"
   ]
  },
  {
   "cell_type": "code",
   "execution_count": 23,
   "metadata": {},
   "outputs": [
    {
     "data": {
      "text/plain": [
       "'{\"error\": null, \"values\": [\"\", \"3.00000000000000\", \"\", \"\", \"\"], \"dims\": [\"\", \"m\", \"\", \"\", \"\"]}'"
      ]
     },
     "execution_count": 23,
     "metadata": {},
     "output_type": "execute_result"
    }
   ],
   "source": [
    "# quadratic equation from test suite that fails for dimension error even that dimensions are consistant\n",
    "statements = '[{\"type\":\"assignment\",\"name\":\"x\",\"sympy\":\"((-(b))+sqrt((b)**(2)-4*a*c))/(2*a)\",\"implicitParams\":[],\"params\":[\"b\",\"b\",\"a\",\"c\",\"a\"]},{\"type\":\"query\",\"sympy\":\"x\",\"units\":\"m\",\"dimensions\":[0,1,0,0,0,0,0,0,0],\"units_valid\":true,\"implicitParams\":[],\"params\":[\"x\"]},{\"type\":\"assignment\",\"name\":\"a\",\"sympy\":\"1\",\"implicitParams\":[],\"params\":[]},{\"type\":\"assignment\",\"name\":\"b\",\"sympy\":\"(-(implicit_param_21_0))\",\"implicitParams\":[{\"name\":\"implicit_param_21_0\",\"dimensions\":[0,1,0,0,0,0,0,0,0],\"si_value\":5,\"units_valid\":true}],\"params\":[\"implicit_param_21_0\"]},{\"type\":\"assignment\",\"name\":\"c\",\"sympy\":\"implicit_param_22_0\",\"implicitParams\":[{\"name\":\"implicit_param_22_0\",\"dimensions\":[0,2,0,0,0,0,0,0,0],\"si_value\":6,\"units_valid\":true}],\"params\":[\"implicit_param_22_0\"]}]'\n",
    "get_query_values(statements)"
   ]
  },
  {
   "cell_type": "code",
   "execution_count": 24,
   "metadata": {},
   "outputs": [
    {
     "data": {
      "text/plain": [
       "'{\"error\": null, \"values\": [\"0.00100000000000000\"], \"dims\": [\"m\"]}'"
      ]
     },
     "execution_count": 24,
     "metadata": {},
     "output_type": "execute_result"
    }
   ],
   "source": [
    "# 5[mm]-4[mm] =\n",
    "statements = '[{\"type\":\"query\",\"sympy\":\"implicit_param_6_0-implicit_param_6_1\",\"units\":\"\",\"implicitParams\":[{\"name\":\"implicit_param_6_0\",\"dimensions\":[0,1,0,0,0,0,0,0,0],\"si_value\":0.005,\"units_valid\":true},{\"name\":\"implicit_param_6_1\",\"dimensions\":[0,1,0,0,0,0,0,0,0],\"si_value\":0.004,\"units_valid\":true}],\"params\":[\"implicit_param_6_0\",\"implicit_param_6_1\"]}]'\n",
    "get_query_values(statements)"
   ]
  },
  {
   "cell_type": "code",
   "execution_count": null,
   "metadata": {},
   "outputs": [],
   "source": []
  }
 ],
 "metadata": {
  "kernelspec": {
   "display_name": "Python 3",
   "language": "python",
   "name": "python3"
  },
  "language_info": {
   "codemirror_mode": {
    "name": "ipython",
    "version": 3
   },
   "file_extension": ".py",
   "mimetype": "text/x-python",
   "name": "python",
   "nbconvert_exporter": "python",
   "pygments_lexer": "ipython3",
   "version": "3.8.5"
  }
 },
 "nbformat": 4,
 "nbformat_minor": 4
}
